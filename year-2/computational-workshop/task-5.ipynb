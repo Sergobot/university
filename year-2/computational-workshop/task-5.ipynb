{
 "cells": [
  {
   "cell_type": "code",
   "execution_count": 1,
   "metadata": {},
   "outputs": [],
   "source": [
    "import sympy as sp\n",
    "import numpy as np\n",
    "import pandas as pd"
   ]
  },
  {
   "cell_type": "code",
   "execution_count": 55,
   "metadata": {},
   "outputs": [],
   "source": [
    "x = sp.symbols('x')\n",
    "f = sp.exp(2 * x)"
   ]
  },
  {
   "cell_type": "code",
   "execution_count": 43,
   "metadata": {},
   "outputs": [],
   "source": [
    "def calculate_first_derivative(nodes, values, forward=True):\n",
    "    step = nodes[1] - nodes[0]\n",
    "    diffs = []\n",
    "    if forward:\n",
    "        for i in range(len(nodes) - 1):\n",
    "            diffs.append((values[i + 1] - values[i]) / step)\n",
    "        diffs.append(None)\n",
    "    else:\n",
    "        diffs.append(None)\n",
    "        for i in range(1, len(nodes)):\n",
    "            diffs.append((values[i] - values[i - 1]) / step)\n",
    "    \n",
    "    return diffs"
   ]
  },
  {
   "cell_type": "code",
   "execution_count": 44,
   "metadata": {},
   "outputs": [],
   "source": [
    "def calculate_first_derivative_high_precision(nodes, values):\n",
    "    step = nodes[1] - nodes[0]\n",
    "    diffs = [None]\n",
    "    for i in range(1, len(nodes) - 1):\n",
    "        diffs.append((values[i + 1] - values[i - 1]) / (2 * step))\n",
    "    diffs.append(None)\n",
    "    return diffs"
   ]
  },
  {
   "cell_type": "code",
   "execution_count": 45,
   "metadata": {},
   "outputs": [],
   "source": [
    "def calculate_second_derivative(nodes, values):\n",
    "    step = nodes[1] - nodes[0]\n",
    "    diffs = [None]\n",
    "    for i in range(1, len(nodes) - 1):\n",
    "        diffs.append((values[i - 1] - 2 * values[i] + values[i + 1]) / step ** 2)\n",
    "    diffs.append(None)\n",
    "    return diffs"
   ]
  },
  {
   "cell_type": "code",
   "execution_count": 53,
   "metadata": {},
   "outputs": [],
   "source": [
    "def create_table_of_derivative_estimation(nodes, values, dvalues, d_est, d_est_hp, ddvalues, dd_est):\n",
    "    derror = [abs(v - e) if e != None else None for v, e in zip(dvalues, d_est)]\n",
    "    dhperror = [abs(v - e) if e != None else None for v, e in zip(dvalues, d_est_hp)]\n",
    "    dderror = [abs(v - e) if e != None else None for v, e in zip(ddvalues, dd_est)]\n",
    "    \n",
    "    rows = list(zip(\n",
    "        nodes, values,\n",
    "        dvalues,\n",
    "        d_est, derror,\n",
    "        d_est_hp, dhperror,\n",
    "        ddvalues,\n",
    "        dd_est, dderror\n",
    "    ))\n",
    "    header = ['x', 'f(x)',\n",
    "              'f\\'(x)',\n",
    "              'f\\'(x) O(n) est.', 'f\\'(x) O(n) error',\n",
    "              'f\\'(x) O(n^2) est.', 'f\\'(x) O(n^2) error',\n",
    "              'f\\'\\'(x)',\n",
    "              'f\\'\\'(x) O(n^2) est.', 'f\\'(x) O(n^2) error'\n",
    "             ]\n",
    "    return pd.DataFrame(rows, columns=header)"
   ]
  },
  {
   "cell_type": "markdown",
   "metadata": {},
   "source": [
    "# 1"
   ]
  },
  {
   "cell_type": "code",
   "execution_count": 58,
   "metadata": {},
   "outputs": [],
   "source": [
    "a = 0\n",
    "b = 4\n",
    "nodes_count = 11\n",
    "df = sp.diff(f)\n",
    "ddf = sp.diff(df)\n",
    "\n",
    "nodes = np.linspace(a, b, nodes_count, endpoint=True)\n",
    "values = [f.evalf(subs={x: i}) for i in nodes]\n",
    "dvalues = [df.evalf(subs={x: i}) for i in nodes]\n",
    "ddvalues = [ddf.evalf(subs={x: i}) for i in nodes]\n",
    "\n",
    "d_est = calculate_first_derivative(nodes, values)\n",
    "d_est_hp = calculate_first_derivative_high_precision(nodes, values)\n",
    "dd_est = calculate_second_derivative(nodes, values)"
   ]
  },
  {
   "cell_type": "code",
   "execution_count": 59,
   "metadata": {
    "scrolled": false
   },
   "outputs": [
    {
     "data": {
      "text/html": [
       "<div>\n",
       "<style scoped>\n",
       "    .dataframe tbody tr th:only-of-type {\n",
       "        vertical-align: middle;\n",
       "    }\n",
       "\n",
       "    .dataframe tbody tr th {\n",
       "        vertical-align: top;\n",
       "    }\n",
       "\n",
       "    .dataframe thead th {\n",
       "        text-align: right;\n",
       "    }\n",
       "</style>\n",
       "<table border=\"1\" class=\"dataframe\">\n",
       "  <thead>\n",
       "    <tr style=\"text-align: right;\">\n",
       "      <th></th>\n",
       "      <th>x</th>\n",
       "      <th>f(x)</th>\n",
       "      <th>f'(x)</th>\n",
       "      <th>f'(x) O(n) est.</th>\n",
       "      <th>f'(x) O(n) error</th>\n",
       "      <th>f'(x) O(n^2) est.</th>\n",
       "      <th>f'(x) O(n^2) error</th>\n",
       "      <th>f''(x)</th>\n",
       "      <th>f''(x) O(n^2) est.</th>\n",
       "      <th>f'(x) O(n^2) error</th>\n",
       "    </tr>\n",
       "  </thead>\n",
       "  <tbody>\n",
       "    <tr>\n",
       "      <th>0</th>\n",
       "      <td>0.0</td>\n",
       "      <td>1.00000000000000</td>\n",
       "      <td>2.00000000000000</td>\n",
       "      <td>3.06385232123117</td>\n",
       "      <td>1.06385232123117</td>\n",
       "      <td>None</td>\n",
       "      <td>None</td>\n",
       "      <td>4.00000000000000</td>\n",
       "      <td>None</td>\n",
       "      <td>None</td>\n",
       "    </tr>\n",
       "    <tr>\n",
       "      <th>1</th>\n",
       "      <td>0.4</td>\n",
       "      <td>2.22554092849247</td>\n",
       "      <td>4.45108185698494</td>\n",
       "      <td>6.81872873975662</td>\n",
       "      <td>2.36764688277168</td>\n",
       "      <td>4.94129053049389</td>\n",
       "      <td>0.490208673508958</td>\n",
       "      <td>8.90216371396987</td>\n",
       "      <td>9.38719104631362</td>\n",
       "      <td>0.485027332343746</td>\n",
       "    </tr>\n",
       "    <tr>\n",
       "      <th>2</th>\n",
       "      <td>0.8</td>\n",
       "      <td>4.95303242439511</td>\n",
       "      <td>9.90606484879023</td>\n",
       "      <td>15.1753598906162</td>\n",
       "      <td>5.26929504182599</td>\n",
       "      <td>10.9970443151864</td>\n",
       "      <td>1.09097946639619</td>\n",
       "      <td>19.8121296975805</td>\n",
       "      <td>20.8915778771490</td>\n",
       "      <td>1.07944817956855</td>\n",
       "    </tr>\n",
       "    <tr>\n",
       "      <th>3</th>\n",
       "      <td>1.2</td>\n",
       "      <td>11.0231763806416</td>\n",
       "      <td>22.0463527612832</td>\n",
       "      <td>33.7733845411694</td>\n",
       "      <td>11.7270317798862</td>\n",
       "      <td>24.4743722158928</td>\n",
       "      <td>2.42801945460959</td>\n",
       "      <td>44.0927055225664</td>\n",
       "      <td>46.4950616263828</td>\n",
       "      <td>2.40235610381643</td>\n",
       "    </tr>\n",
       "    <tr>\n",
       "      <th>4</th>\n",
       "      <td>1.6</td>\n",
       "      <td>24.5325301971094</td>\n",
       "      <td>49.0650603942187</td>\n",
       "      <td>75.1640495900872</td>\n",
       "      <td>26.0989891958685</td>\n",
       "      <td>54.4687170656283</td>\n",
       "      <td>5.40365667140959</td>\n",
       "      <td>98.1301207884374</td>\n",
       "      <td>103.476662622295</td>\n",
       "      <td>5.34654183385715</td>\n",
       "    </tr>\n",
       "    <tr>\n",
       "      <th>5</th>\n",
       "      <td>2.0</td>\n",
       "      <td>54.5981500331442</td>\n",
       "      <td>109.196300066288</td>\n",
       "      <td>167.280668713977</td>\n",
       "      <td>58.0843686476883</td>\n",
       "      <td>121.222359152032</td>\n",
       "      <td>12.0260590857435</td>\n",
       "      <td>218.392600132577</td>\n",
       "      <td>230.291547809724</td>\n",
       "      <td>11.8989476771470</td>\n",
       "    </tr>\n",
       "    <tr>\n",
       "      <th>6</th>\n",
       "      <td>2.4</td>\n",
       "      <td>121.510417518735</td>\n",
       "      <td>243.020835037470</td>\n",
       "      <td>372.289974768544</td>\n",
       "      <td>129.269139731074</td>\n",
       "      <td>269.785321741261</td>\n",
       "      <td>26.7644867037907</td>\n",
       "      <td>486.041670074940</td>\n",
       "      <td>512.523265136419</td>\n",
       "      <td>26.4815950614791</td>\n",
       "    </tr>\n",
       "    <tr>\n",
       "      <th>7</th>\n",
       "      <td>2.8</td>\n",
       "      <td>270.426407426153</td>\n",
       "      <td>540.852814852306</td>\n",
       "      <td>828.546576114824</td>\n",
       "      <td>287.693761262518</td>\n",
       "      <td>600.418275441684</td>\n",
       "      <td>59.5654605893785</td>\n",
       "      <td>1081.70562970461</td>\n",
       "      <td>1140.64150336570</td>\n",
       "      <td>58.9358736610868</td>\n",
       "    </tr>\n",
       "    <tr>\n",
       "      <th>8</th>\n",
       "      <td>3.2</td>\n",
       "      <td>601.845037872082</td>\n",
       "      <td>1203.69007574416</td>\n",
       "      <td>1843.96431630584</td>\n",
       "      <td>640.274240561675</td>\n",
       "      <td>1336.25544621033</td>\n",
       "      <td>132.565370466167</td>\n",
       "      <td>2407.38015148833</td>\n",
       "      <td>2538.54435047754</td>\n",
       "      <td>131.164198989210</td>\n",
       "    </tr>\n",
       "    <tr>\n",
       "      <th>9</th>\n",
       "      <td>3.6</td>\n",
       "      <td>1339.43076439442</td>\n",
       "      <td>2678.86152878884</td>\n",
       "      <td>4103.81805661828</td>\n",
       "      <td>1424.95652782944</td>\n",
       "      <td>2973.89118646206</td>\n",
       "      <td>295.029657673221</td>\n",
       "      <td>5357.72305757767</td>\n",
       "      <td>5649.63435078109</td>\n",
       "      <td>291.911293203418</td>\n",
       "    </tr>\n",
       "    <tr>\n",
       "      <th>10</th>\n",
       "      <td>4.0</td>\n",
       "      <td>2980.95798704173</td>\n",
       "      <td>5961.91597408346</td>\n",
       "      <td>None</td>\n",
       "      <td>None</td>\n",
       "      <td>None</td>\n",
       "      <td>None</td>\n",
       "      <td>11923.8319481669</td>\n",
       "      <td>None</td>\n",
       "      <td>None</td>\n",
       "    </tr>\n",
       "  </tbody>\n",
       "</table>\n",
       "</div>"
      ],
      "text/plain": [
       "      x              f(x)             f'(x)   f'(x) O(n) est.  \\\n",
       "0   0.0  1.00000000000000  2.00000000000000  3.06385232123117   \n",
       "1   0.4  2.22554092849247  4.45108185698494  6.81872873975662   \n",
       "2   0.8  4.95303242439511  9.90606484879023  15.1753598906162   \n",
       "3   1.2  11.0231763806416  22.0463527612832  33.7733845411694   \n",
       "4   1.6  24.5325301971094  49.0650603942187  75.1640495900872   \n",
       "5   2.0  54.5981500331442  109.196300066288  167.280668713977   \n",
       "6   2.4  121.510417518735  243.020835037470  372.289974768544   \n",
       "7   2.8  270.426407426153  540.852814852306  828.546576114824   \n",
       "8   3.2  601.845037872082  1203.69007574416  1843.96431630584   \n",
       "9   3.6  1339.43076439442  2678.86152878884  4103.81805661828   \n",
       "10  4.0  2980.95798704173  5961.91597408346              None   \n",
       "\n",
       "    f'(x) O(n) error f'(x) O(n^2) est. f'(x) O(n^2) error            f''(x)  \\\n",
       "0   1.06385232123117              None               None  4.00000000000000   \n",
       "1   2.36764688277168  4.94129053049389  0.490208673508958  8.90216371396987   \n",
       "2   5.26929504182599  10.9970443151864   1.09097946639619  19.8121296975805   \n",
       "3   11.7270317798862  24.4743722158928   2.42801945460959  44.0927055225664   \n",
       "4   26.0989891958685  54.4687170656283   5.40365667140959  98.1301207884374   \n",
       "5   58.0843686476883  121.222359152032   12.0260590857435  218.392600132577   \n",
       "6   129.269139731074  269.785321741261   26.7644867037907  486.041670074940   \n",
       "7   287.693761262518  600.418275441684   59.5654605893785  1081.70562970461   \n",
       "8   640.274240561675  1336.25544621033   132.565370466167  2407.38015148833   \n",
       "9   1424.95652782944  2973.89118646206   295.029657673221  5357.72305757767   \n",
       "10              None              None               None  11923.8319481669   \n",
       "\n",
       "   f''(x) O(n^2) est. f'(x) O(n^2) error  \n",
       "0                None               None  \n",
       "1    9.38719104631362  0.485027332343746  \n",
       "2    20.8915778771490   1.07944817956855  \n",
       "3    46.4950616263828   2.40235610381643  \n",
       "4    103.476662622295   5.34654183385715  \n",
       "5    230.291547809724   11.8989476771470  \n",
       "6    512.523265136419   26.4815950614791  \n",
       "7    1140.64150336570   58.9358736610868  \n",
       "8    2538.54435047754   131.164198989210  \n",
       "9    5649.63435078109   291.911293203418  \n",
       "10               None               None  "
      ]
     },
     "execution_count": 59,
     "metadata": {},
     "output_type": "execute_result"
    }
   ],
   "source": [
    "create_table_of_derivative_estimation(nodes, values, dvalues, d_est, d_est_hp, ddvalues, dd_est)"
   ]
  },
  {
   "cell_type": "markdown",
   "metadata": {},
   "source": [
    "# 2"
   ]
  },
  {
   "cell_type": "code",
   "execution_count": 71,
   "metadata": {},
   "outputs": [],
   "source": [
    "step = 1\n",
    "target_node = 2\n",
    "target_value = ddf.evalf(subs={x: target_node})\n",
    "error = None\n",
    "\n",
    "while True:\n",
    "    nodes = [target_node - step, target_node, target_node + step]\n",
    "    values = [f.evalf(subs={x: i}) for i in nodes]\n",
    "    estimated_value = calculate_second_derivative(nodes, values)[1]\n",
    "    new_error = round(abs(estimated_value - target_value), 5)\n",
    "    \n",
    "    if error == None or new_error <= error:\n",
    "        error = new_error\n",
    "        step /= 2\n",
    "    else:\n",
    "        break"
   ]
  },
  {
   "cell_type": "code",
   "execution_count": 73,
   "metadata": {},
   "outputs": [
    {
     "data": {
      "text/plain": [
       "3.0517578125e-05"
      ]
     },
     "execution_count": 73,
     "metadata": {},
     "output_type": "execute_result"
    }
   ],
   "source": [
    "step"
   ]
  },
  {
   "cell_type": "markdown",
   "metadata": {},
   "source": [
    "# 3"
   ]
  },
  {
   "cell_type": "code",
   "execution_count": 87,
   "metadata": {},
   "outputs": [],
   "source": [
    "def newton_interpolation_equally_spaced_nodes(nodes, values, order):\n",
    "    def finite_differences(nodes, values, max_order):\n",
    "        if len(nodes) != len(values):\n",
    "            raise ValueError(\"nodes and values lists must have the same length\")\n",
    "        diffs = [values]\n",
    "        for order in range(max_order):\n",
    "            current_diffs = []\n",
    "            for i in range(1, len(nodes) - order):\n",
    "                current_diffs.append(diffs[-1][i] - diffs[-1][i-1])\n",
    "            diffs.append(current_diffs)\n",
    "        return diffs\n",
    "        \n",
    "    step = nodes[1] - nodes[0]\n",
    "    fds = finite_differences(nodes, values, order)\n",
    "\n",
    "    t = (x - b) / step\n",
    "\n",
    "    # Compute N_k for k up `order` to estimate error for polynom of order `order - 1`\n",
    "    ns = [1]\n",
    "    for i in range(order + 1):\n",
    "        ns.append(ns[-1] * (t + i) / (i + 1))\n",
    "\n",
    "    # Calculate all the polynoms with order from 0 to `order`\n",
    "    polynoms = []\n",
    "    for i in range(order + 1):\n",
    "        prev = polynoms[-1] if len(polynoms) > 0 else 0\n",
    "        polynoms.append(prev + ns[i] * fds[i][-1])\n",
    "\n",
    "    return polynoms[-1]"
   ]
  },
  {
   "cell_type": "code",
   "execution_count": 126,
   "metadata": {},
   "outputs": [],
   "source": [
    "a, b = 0, 1\n",
    "nodes_count = 11 # to include node `b` and have a nice 0.1 step\n",
    "nodes = np.linspace(a, b, nodes_count, endpoint=True)\n",
    "values = [f.evalf(subs={x: i}) for i in nodes]\n",
    "new_node_id = 1\n",
    "\n",
    "polynom = newton_interpolation_equally_spaced_nodes(nodes, values, 5)"
   ]
  },
  {
   "cell_type": "code",
   "execution_count": 127,
   "metadata": {},
   "outputs": [],
   "source": [
    "df_numeric = calculate_first_derivative(nodes, values)[new_node_id]\n",
    "df_poly = sp.diff(polynom).evalf(subs={x: nodes[new_node_id]})\n",
    "df_actual = sp.diff(f).evalf(subs={x: nodes[new_node_id]})"
   ]
  },
  {
   "cell_type": "code",
   "execution_count": 128,
   "metadata": {},
   "outputs": [
    {
     "data": {
      "text/plain": [
       "(2.44280551632034, 2.64068217834383, 2.70421939481100)"
      ]
     },
     "execution_count": 128,
     "metadata": {},
     "output_type": "execute_result"
    }
   ],
   "source": [
    "df_actual, df_poly, df_numeric"
   ]
  },
  {
   "cell_type": "code",
   "execution_count": 130,
   "metadata": {},
   "outputs": [
    {
     "data": {
      "text/plain": [
       "(0.197876662023491, 0.261413878490665)"
      ]
     },
     "execution_count": 130,
     "metadata": {},
     "output_type": "execute_result"
    }
   ],
   "source": [
    "poly_error, numeric_error = df_poly - df_actual, df_numeric - df_actual\n",
    "poly_error, numeric_error"
   ]
  }
 ],
 "metadata": {
  "kernelspec": {
   "display_name": "Python 3.8.2 64-bit ('university': conda)",
   "language": "python",
   "name": "python38264bituniversitycondab97bf0abd727460988fa3373b2696f9e"
  },
  "language_info": {
   "codemirror_mode": {
    "name": "ipython",
    "version": 3
   },
   "file_extension": ".py",
   "mimetype": "text/x-python",
   "name": "python",
   "nbconvert_exporter": "python",
   "pygments_lexer": "ipython3",
   "version": "3.8.2"
  }
 },
 "nbformat": 4,
 "nbformat_minor": 4
}
