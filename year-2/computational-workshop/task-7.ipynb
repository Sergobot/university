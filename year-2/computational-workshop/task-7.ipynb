{
 "cells": [
  {
   "cell_type": "code",
   "execution_count": 1,
   "metadata": {},
   "outputs": [],
   "source": [
    "import sympy as sp\n",
    "import pandas as pd\n",
    "%matplotlib inline"
   ]
  },
  {
   "cell_type": "code",
   "execution_count": 2,
   "metadata": {},
   "outputs": [],
   "source": [
    "x, y = sp.symbols('x y')\n",
    "f = sp.tan(y - 0.8 * x) + 0.8 * x * y - 0.3\n",
    "g = x ** 2 + y ** 2 - 1.7"
   ]
  },
  {
   "cell_type": "code",
   "execution_count": 3,
   "metadata": {},
   "outputs": [
    {
     "data": {
      "image/png": "[encoded data removed]",
      "text/plain": [
       "<Figure size 432x288 with 1 Axes>"
      ]
     },
     "metadata": {
      "needs_background": "light"
     },
     "output_type": "display_data"
    }
   ],
   "source": [
    "plot = sp.plot_implicit(sp.Eq(f, 0), show=False, line_color='blue')\n",
    "plot.extend(sp.plot_implicit(sp.Eq(g, 0), show=False, line_color='green'))\n",
    "plot.show()"
   ]
  },
  {
   "cell_type": "code",
   "execution_count": 4,
   "metadata": {},
   "outputs": [],
   "source": [
    "def newton_system(x, y, f, g, x0, y0):\n",
    "    dfdx = f.diff(x)\n",
    "    dfdy = f.diff(y)\n",
    "    dgdx = g.diff(x)\n",
    "    dgdy = g.diff(y)\n",
    "    \n",
    "    d = dfdx * dgdy - dgdx * dfdy\n",
    "    dx = f * dgdy - g * dfdy\n",
    "    dy = dfdx * g - dgdx * f\n",
    "\n",
    "    xs, ys, norms, fs, gs = [], [], [], [], []\n",
    "    xk, yk = x0, y0\n",
    "    while True:    \n",
    "        new_x = xk - (dx / d).evalf(subs={x: xk, y: yk})\n",
    "        new_y = yk - (dy / d).evalf(subs={x: xk, y: yk})\n",
    "        xs.append(new_x)\n",
    "        ys.append(new_y)\n",
    "\n",
    "        norm = sp.sqrt((new_x - xk) ** 2 + (new_y - yk) ** 2)\n",
    "        norms.append(norm)\n",
    "        fs.append(f.evalf(subs={x: new_x, y: new_y}))\n",
    "        gs.append(g.evalf(subs={x: new_x, y: new_y}))\n",
    "\n",
    "        xk, yk = new_x, new_y\n",
    "\n",
    "        if norm < 1e-5 and len(xs) > 1:\n",
    "            break\n",
    "    return pd.DataFrame(list(zip(xs, ys, norms, fs, gs)), columns=['x', 'y', 'norm', 'f', 'g'])"
   ]
  },
  {
   "cell_type": "code",
   "execution_count": 5,
   "metadata": {},
   "outputs": [
    {
     "data": {
      "text/html": [
       "<div>\n",
       "<style scoped>\n",
       "    .dataframe tbody tr th:only-of-type {\n",
       "        vertical-align: middle;\n",
       "    }\n",
       "\n",
       "    .dataframe tbody tr th {\n",
       "        vertical-align: top;\n",
       "    }\n",
       "\n",
       "    .dataframe thead th {\n",
       "        text-align: right;\n",
       "    }\n",
       "</style>\n",
       "<table border=\"1\" class=\"dataframe\">\n",
       "  <thead>\n",
       "    <tr style=\"text-align: right;\">\n",
       "      <th></th>\n",
       "      <th>x</th>\n",
       "      <th>y</th>\n",
       "      <th>norm</th>\n",
       "      <th>f</th>\n",
       "      <th>g</th>\n",
       "    </tr>\n",
       "  </thead>\n",
       "  <tbody>\n",
       "    <tr>\n",
       "      <th>0</th>\n",
       "      <td>1.22761708889715</td>\n",
       "      <td>0.622382911102848</td>\n",
       "      <td>0.440912922225209</td>\n",
       "      <td>-0.0648343503263468</td>\n",
       "      <td>0.194404204985173</td>\n",
       "    </tr>\n",
       "    <tr>\n",
       "      <th>1</th>\n",
       "      <td>1.14149633521898</td>\n",
       "      <td>0.636074171385597</td>\n",
       "      <td>0.0872022638595296</td>\n",
       "      <td>-0.00358082004103558</td>\n",
       "      <td>0.00760423482222702</td>\n",
       "    </tr>\n",
       "    <tr>\n",
       "      <th>2</th>\n",
       "      <td>1.13755666993897</td>\n",
       "      <td>0.637166805074043</td>\n",
       "      <td>0.00408837509233626</td>\n",
       "      <td>-8.94822418305518e-6</td>\n",
       "      <td>1.67148108958352e-5</td>\n",
       "    </tr>\n",
       "    <tr>\n",
       "      <th>3</th>\n",
       "      <td>1.13754769473498</td>\n",
       "      <td>0.637169712315441</td>\n",
       "      <td>9.43431710133745e-6</td>\n",
       "      <td>-5.15817799583199e-11</td>\n",
       "      <td>8.90062924372405e-11</td>\n",
       "    </tr>\n",
       "  </tbody>\n",
       "</table>\n",
       "</div>"
      ],
      "text/plain": [
       "                  x                  y                 norm  \\\n",
       "0  1.22761708889715  0.622382911102848    0.440912922225209   \n",
       "1  1.14149633521898  0.636074171385597   0.0872022638595296   \n",
       "2  1.13755666993897  0.637166805074043  0.00408837509233626   \n",
       "3  1.13754769473498  0.637169712315441  9.43431710133745e-6   \n",
       "\n",
       "                       f                     g  \n",
       "0    -0.0648343503263468     0.194404204985173  \n",
       "1   -0.00358082004103558   0.00760423482222702  \n",
       "2   -8.94822418305518e-6   1.67148108958352e-5  \n",
       "3  -5.15817799583199e-11  8.90062924372405e-11  "
      ]
     },
     "execution_count": 5,
     "metadata": {},
     "output_type": "execute_result"
    }
   ],
   "source": [
    "newton_system(x, y, f, g, 1, 1)"
   ]
  },
  {
   "cell_type": "code",
   "execution_count": 6,
   "metadata": {},
   "outputs": [
    {
     "data": {
      "text/html": [
       "<div>\n",
       "<style scoped>\n",
       "    .dataframe tbody tr th:only-of-type {\n",
       "        vertical-align: middle;\n",
       "    }\n",
       "\n",
       "    .dataframe tbody tr th {\n",
       "        vertical-align: top;\n",
       "    }\n",
       "\n",
       "    .dataframe thead th {\n",
       "        text-align: right;\n",
       "    }\n",
       "</style>\n",
       "<table border=\"1\" class=\"dataframe\">\n",
       "  <thead>\n",
       "    <tr style=\"text-align: right;\">\n",
       "      <th></th>\n",
       "      <th>x</th>\n",
       "      <th>y</th>\n",
       "      <th>norm</th>\n",
       "      <th>f</th>\n",
       "      <th>g</th>\n",
       "    </tr>\n",
       "  </thead>\n",
       "  <tbody>\n",
       "    <tr>\n",
       "      <th>0</th>\n",
       "      <td>-0.822059767940987</td>\n",
       "      <td>-1.02794023205901</td>\n",
       "      <td>0.180120467334300</td>\n",
       "      <td>-0.0121769613176794</td>\n",
       "      <td>0.0324433827527268</td>\n",
       "    </tr>\n",
       "    <tr>\n",
       "      <th>1</th>\n",
       "      <td>-0.824116762561558</td>\n",
       "      <td>-1.01051444859597</td>\n",
       "      <td>0.0175467705339115</td>\n",
       "      <td>-0.000187332632752991</td>\n",
       "      <td>0.000307889156169836</td>\n",
       "    </tr>\n",
       "    <tr>\n",
       "      <th>2</th>\n",
       "      <td>-0.824171430058251</td>\n",
       "      <td>-1.01031752219007</td>\n",
       "      <td>0.000204373541676120</td>\n",
       "      <td>-3.26758676647519e-8</td>\n",
       "      <td>4.17685447475136e-8</td>\n",
       "    </tr>\n",
       "    <tr>\n",
       "      <th>3</th>\n",
       "      <td>-0.824171440931074</td>\n",
       "      <td>-1.01031749264951</td>\n",
       "      <td>3.14779734395557e-8</td>\n",
       "      <td>-7.59514473637850e-16</td>\n",
       "      <td>8.46188933633038e-16</td>\n",
       "    </tr>\n",
       "  </tbody>\n",
       "</table>\n",
       "</div>"
      ],
      "text/plain": [
       "                    x                  y                  norm  \\\n",
       "0  -0.822059767940987  -1.02794023205901     0.180120467334300   \n",
       "1  -0.824116762561558  -1.01051444859597    0.0175467705339115   \n",
       "2  -0.824171430058251  -1.01031752219007  0.000204373541676120   \n",
       "3  -0.824171440931074  -1.01031749264951   3.14779734395557e-8   \n",
       "\n",
       "                       f                     g  \n",
       "0    -0.0121769613176794    0.0324433827527268  \n",
       "1  -0.000187332632752991  0.000307889156169836  \n",
       "2   -3.26758676647519e-8   4.17685447475136e-8  \n",
       "3  -7.59514473637850e-16  8.46188933633038e-16  "
      ]
     },
     "execution_count": 6,
     "metadata": {},
     "output_type": "execute_result"
    }
   ],
   "source": [
    "newton_system(x, y, f, g, -1, -1)"
   ]
  }
 ],
 "metadata": {
  "kernelspec": {
   "display_name": "Python 3.8.2 64-bit ('university': conda)",
   "language": "python",
   "name": "python38264bituniversitycondab97bf0abd727460988fa3373b2696f9e"
  },
  "language_info": {
   "codemirror_mode": {
    "name": "ipython",
    "version": 3
   },
   "file_extension": ".py",
   "mimetype": "text/x-python",
   "name": "python",
   "nbconvert_exporter": "python",
   "pygments_lexer": "ipython3",
   "version": "3.8.2"
  }
 },
 "nbformat": 4,
 "nbformat_minor": 4
}
