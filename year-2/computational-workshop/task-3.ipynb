{
 "cells": [
  {
   "cell_type": "code",
   "execution_count": 1,
   "metadata": {},
   "outputs": [],
   "source": [
    "import sympy as sp\n",
    "import pandas as pd\n",
    "import seaborn as sns\n",
    "import matplotlib.pyplot as plt\n",
    "import numpy as np\n",
    "%matplotlib inline"
   ]
  },
  {
   "cell_type": "code",
   "execution_count": 2,
   "metadata": {},
   "outputs": [],
   "source": [
    "x = sp.symbols('x')\n",
    "f = 1 / (x**2 + 1)\n",
    "a, b = -1, 1\n",
    "new_node = 0.15\n",
    "order = 7"
   ]
  },
  {
   "cell_type": "markdown",
   "metadata": {},
   "source": [
    "# Let's plot it!"
   ]
  },
  {
   "cell_type": "code",
   "execution_count": 3,
   "metadata": {},
   "outputs": [
    {
     "data": {
      "image/png": "[encoded data removed]",
      "text/plain": [
       "<Figure size 864x432 with 1 Axes>"
      ]
     },
     "metadata": {},
     "output_type": "display_data"
    }
   ],
   "source": [
    "x_plot = np.linspace(a, b, 100, endpoint=True)\n",
    "y_plot = sp.lambdify(x, f, 'numpy')(x_plot)\n",
    "dy_plot = sp.lambdify(x, sp.diff(f), 'numpy')(x_plot)\n",
    "\n",
    "sns.set_style('whitegrid')\n",
    "plt.figure(figsize=(12, 6))\n",
    "sns.lineplot(x_plot, y_plot).set_title('Runge function');"
   ]
  },
  {
   "cell_type": "markdown",
   "metadata": {},
   "source": [
    "# Interpolation using Chebyshev's polynomial"
   ]
  },
  {
   "cell_type": "code",
   "execution_count": 4,
   "metadata": {},
   "outputs": [],
   "source": [
    "# Compute Chebyshev nodes\n",
    "nodes = [np.cos(np.pi * (2 * k + 1) / (2 * order)) for k in range(order)]\n",
    "values = [f.evalf(subs={x: n}) for n in nodes]"
   ]
  },
  {
   "cell_type": "markdown",
   "metadata": {},
   "source": [
    "> Note: The code below is mostly taken from task-1"
   ]
  },
  {
   "cell_type": "code",
   "execution_count": 5,
   "metadata": {},
   "outputs": [],
   "source": [
    "# Helper function to compute divided differences\n",
    "def div_diffs(nodes, values, max_order):\n",
    "    if len(nodes) != len(values):\n",
    "        raise ValueError(\"nodes and values lists must have the same length\")\n",
    "    diffs = [values]\n",
    "    for order in range(max_order):\n",
    "        current_diffs = []\n",
    "        for i in range(1, len(nodes) - order):\n",
    "            current_diffs.append((diffs[-1][i] - diffs[-1][i-1]) / (nodes[i + order] - nodes[i-1]))\n",
    "        diffs.append(current_diffs)\n",
    "    return diffs"
   ]
  },
  {
   "cell_type": "code",
   "execution_count": 6,
   "metadata": {},
   "outputs": [],
   "source": [
    "# Helper function to nicely print divided differences\n",
    "def print_diffs(diffs):\n",
    "    rows = 2 * len(diffs[0]) - 1\n",
    "    for r in range(rows):\n",
    "        row = '\\t' if r % 2 == 1 else ''\n",
    "        for i in range(r % 2, min(rows - r, min(r + 1, len(diffs))), 2):\n",
    "            row += f'{float(diffs[i][(r - i) // 2]):.4f}\\t\\t'\n",
    "        print(row[:-2])"
   ]
  },
  {
   "cell_type": "code",
   "execution_count": 7,
   "metadata": {},
   "outputs": [
    {
     "name": "stdout",
     "output_type": "stream",
     "text": [
      "0.5127\n",
      "\t-0.5590\n",
      "0.6206\t\t0.1404\n",
      "\t-0.6350\t\t0.4981\n",
      "0.8416\t\t-0.3451\t\t0.0637\n",
      "\t-0.3651\t\t0.4084\t\t-0.2611\n",
      "1.0000\t\t-0.8416\t\t0.5223\t\t-0.2678\n",
      "\t0.3651\t\t-0.4084\t\t0.2611\n",
      "0.8416\t\t-0.3451\t\t0.0637\n",
      "\t0.6350\t\t-0.4981\n",
      "0.6206\t\t0.1404\n",
      "\t0.5590\n",
      "0.5127\n"
     ]
    }
   ],
   "source": [
    "dds = div_diffs(nodes, values, order - 1)\n",
    "print_diffs(dds)"
   ]
  },
  {
   "cell_type": "code",
   "execution_count": 8,
   "metadata": {},
   "outputs": [],
   "source": [
    "for pos in range(len(nodes)):\n",
    "    if nodes[pos] > new_node:\n",
    "        break\n",
    "# pos is where we'd put the new node among the others"
   ]
  },
  {
   "cell_type": "code",
   "execution_count": 9,
   "metadata": {},
   "outputs": [],
   "source": [
    "# Find position of the closest by value nodes\n",
    "i, j = pos - 1, pos\n",
    "pos_around_new = []\n",
    "while (j - i) <= order:\n",
    "    if i < 0 and j >= len(nodes):\n",
    "        break\n",
    "    if j >= len(nodes) or new_node - nodes[i] <= nodes[j] - new_node:\n",
    "        pos_around_new.append(i)\n",
    "        i -= 1\n",
    "    else:\n",
    "        pos_around_new.append(j)\n",
    "        j += 1"
   ]
  },
  {
   "cell_type": "code",
   "execution_count": 10,
   "metadata": {},
   "outputs": [],
   "source": [
    "nodes_around_new = [nodes[i] for i in pos_around_new]"
   ]
  },
  {
   "cell_type": "code",
   "execution_count": 11,
   "metadata": {},
   "outputs": [
    {
     "name": "stdout",
     "output_type": "stream",
     "text": [
      "Estimated value: 0.978528748953975\n",
      "True value: 0.977995110024450\n"
     ]
    }
   ],
   "source": [
    "polynom = 0\n",
    "mult = 1\n",
    "for o in range(order):\n",
    "    m = min(pos_around_new[:o+1])\n",
    "    polynom += dds[o][m] * mult\n",
    "    mult *= x - nodes[pos_around_new[o]]\n",
    "chebyshev_estimated_value = polynom.evalf(subs={x: new_node})"
   ]
  },
  {
   "cell_type": "markdown",
   "metadata": {},
   "source": [
    "# Interpolation using equally spaced nodes"
   ]
  },
  {
   "cell_type": "markdown",
   "metadata": {},
   "source": [
    "> It only supports forward interpolation, thus may fail with some orders. I'll fix it soon :)"
   ]
  },
  {
   "cell_type": "code",
   "execution_count": 12,
   "metadata": {},
   "outputs": [],
   "source": [
    "def finite_differences(nodes, values, max_order):\n",
    "    if len(nodes) != len(values):\n",
    "        raise ValueError(\"nodes and values lists must have the same length\")\n",
    "    diffs = [values]\n",
    "    for order in range(max_order):\n",
    "        current_diffs = []\n",
    "        for i in range(1, len(nodes) - order):\n",
    "            current_diffs.append(diffs[-1][i] - diffs[-1][i-1])\n",
    "        diffs.append(current_diffs)\n",
    "    return diffs"
   ]
  },
  {
   "cell_type": "code",
   "execution_count": 13,
   "metadata": {},
   "outputs": [
    {
     "name": "stdout",
     "output_type": "stream",
     "text": [
      "f(-1) = 0.5\n",
      "f(-0.667) = 0.69231\n",
      "f(-0.333) = 0.9\n",
      "f(0) = 1\n",
      "f(0.333) = 0.9\n",
      "f(0.667) = 0.69231\n",
      "f(1) = 0.5\n"
     ]
    }
   ],
   "source": [
    "nodes = np.linspace(a, b, order)\n",
    "step = (b - a) / (order - 1)\n",
    "values = sp.lambdify(x, f, 'numpy')(nodes)\n",
    "\n",
    "for n, v in zip(nodes, values):\n",
    "    print(f'f({n:.3g}) = {v:.5g}')"
   ]
  },
  {
   "cell_type": "code",
   "execution_count": 14,
   "metadata": {},
   "outputs": [],
   "source": [
    "fds = finite_differences(nodes, values, order - 1)"
   ]
  },
  {
   "cell_type": "code",
   "execution_count": 15,
   "metadata": {
    "scrolled": true
   },
   "outputs": [
    {
     "name": "stdout",
     "output_type": "stream",
     "text": [
      "0.5000\n",
      "\t0.1923\n",
      "0.6923\t\t0.0154\n",
      "\t0.2077\t\t-0.1231\n",
      "0.9000\t\t-0.1077\t\t0.0308\n",
      "\t0.1000\t\t-0.0923\t\t0.1538\n",
      "1.0000\t\t-0.2000\t\t0.1846\t\t-0.3077\n",
      "\t-0.1000\t\t0.0923\t\t-0.1538\n",
      "0.9000\t\t-0.1077\t\t0.0308\n",
      "\t-0.2077\t\t0.1231\n",
      "0.6923\t\t0.0154\n",
      "\t-0.1923\n",
      "0.5000\n"
     ]
    }
   ],
   "source": [
    "print_diffs(fds)"
   ]
  },
  {
   "cell_type": "code",
   "execution_count": 16,
   "metadata": {},
   "outputs": [],
   "source": [
    "nearest_pos, nearest_node = None, None\n",
    "for i, n in enumerate(nodes):\n",
    "    if n < new_node and new_node <= n + step/2:\n",
    "        nearest_pos, nearest_node = i, n"
   ]
  },
  {
   "cell_type": "code",
   "execution_count": 17,
   "metadata": {},
   "outputs": [],
   "source": [
    "t = (x - nearest_node) / step"
   ]
  },
  {
   "cell_type": "code",
   "execution_count": 18,
   "metadata": {},
   "outputs": [],
   "source": [
    "ns = [1]\n",
    "mult = -1\n",
    "for i in range(1, order):\n",
    "    ns.append(ns[-1] * (t - mult * (i // 2)) / i)\n",
    "    mult *= -1"
   ]
  },
  {
   "cell_type": "code",
   "execution_count": 19,
   "metadata": {},
   "outputs": [
    {
     "data": {
      "text/plain": [
       "([1,\n",
       "  3.0*x,\n",
       "  1.5*x*(3.0*x - 1),\n",
       "  0.5*x*(3.0*x - 1)*(3.0*x + 1),\n",
       "  0.125*x*(3.0*x - 2)*(3.0*x - 1)*(3.0*x + 1),\n",
       "  0.025*x*(3.0*x - 2)*(3.0*x - 1)*(3.0*x + 1)*(3.0*x + 2),\n",
       "  0.00416666666666667*x*(3.0*x - 3)*(3.0*x - 2)*(3.0*x - 1)*(3.0*x + 1)*(3.0*x + 2)],\n",
       " 7)"
      ]
     },
     "execution_count": 19,
     "metadata": {},
     "output_type": "execute_result"
    }
   ],
   "source": [
    "ns, len(ns)"
   ]
  },
  {
   "cell_type": "code",
   "execution_count": 20,
   "metadata": {},
   "outputs": [],
   "source": [
    "polynom = 0\n",
    "for i in range(order):\n",
    "    polynom += ns[i] * fds[i][nearest_pos - i // 2]\n",
    "esn_estimated_value = polynom.evalf(subs={x: new_node})"
   ]
  },
  {
   "cell_type": "code",
   "execution_count": 27,
   "metadata": {},
   "outputs": [],
   "source": [
    "true_value = f.evalf(subs={x: new_node})"
   ]
  },
  {
   "cell_type": "code",
   "execution_count": 28,
   "metadata": {},
   "outputs": [
    {
     "data": {
      "text/html": [
       "<div>\n",
       "<style scoped>\n",
       "    .dataframe tbody tr th:only-of-type {\n",
       "        vertical-align: middle;\n",
       "    }\n",
       "\n",
       "    .dataframe tbody tr th {\n",
       "        vertical-align: top;\n",
       "    }\n",
       "\n",
       "    .dataframe thead th {\n",
       "        text-align: right;\n",
       "    }\n",
       "</style>\n",
       "<table border=\"1\" class=\"dataframe\">\n",
       "  <thead>\n",
       "    <tr style=\"text-align: right;\">\n",
       "      <th></th>\n",
       "      <th>7 nodes</th>\n",
       "      <th>Error</th>\n",
       "    </tr>\n",
       "  </thead>\n",
       "  <tbody>\n",
       "    <tr>\n",
       "      <th>Estimation using Chebyshev nodes</th>\n",
       "      <td>0.978528748953975</td>\n",
       "      <td>-0.000533638929525071</td>\n",
       "    </tr>\n",
       "    <tr>\n",
       "      <th>Estimation using equally spaced nodes</th>\n",
       "      <td>0.978245658112981</td>\n",
       "      <td>-0.000250548088530866</td>\n",
       "    </tr>\n",
       "    <tr>\n",
       "      <th>True value</th>\n",
       "      <td>0.977995110024450</td>\n",
       "      <td>0</td>\n",
       "    </tr>\n",
       "  </tbody>\n",
       "</table>\n",
       "</div>"
      ],
      "text/plain": [
       "                                                 7 nodes  \\\n",
       "Estimation using Chebyshev nodes       0.978528748953975   \n",
       "Estimation using equally spaced nodes  0.978245658112981   \n",
       "True value                             0.977995110024450   \n",
       "\n",
       "                                                       Error  \n",
       "Estimation using Chebyshev nodes       -0.000533638929525071  \n",
       "Estimation using equally spaced nodes  -0.000250548088530866  \n",
       "True value                                                 0  "
      ]
     },
     "execution_count": 28,
     "metadata": {},
     "output_type": "execute_result"
    }
   ],
   "source": [
    "pd.DataFrame([\n",
    "        [chebyshev_estimated_value, true_value - chebyshev_estimated_value],\n",
    "        [esn_estimated_value, true_value - esn_estimated_value],\n",
    "        [true_value, 0]\n",
    "    ], index=['Estimation using Chebyshev nodes', 'Estimation using equally spaced nodes', 'True value'],\n",
    "    columns=[f'{order} nodes', 'Error']\n",
    ")"
   ]
  }
 ],
 "metadata": {
  "kernelspec": {
   "display_name": "Python 3.8.2 64-bit ('university': conda)",
   "language": "python",
   "name": "python38264bituniversitycondab97bf0abd727460988fa3373b2696f9e"
  },
  "language_info": {
   "codemirror_mode": {
    "name": "ipython",
    "version": 3
   },
   "file_extension": ".py",
   "mimetype": "text/x-python",
   "name": "python",
   "nbconvert_exporter": "python",
   "pygments_lexer": "ipython3",
   "version": "3.8.2"
  }
 },
 "nbformat": 4,
 "nbformat_minor": 4
}
