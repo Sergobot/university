{
 "cells": [
  {
   "cell_type": "code",
   "execution_count": 1,
   "metadata": {},
   "outputs": [],
   "source": [
    "import sympy as sp\n",
    "import pandas as pd"
   ]
  },
  {
   "cell_type": "markdown",
   "metadata": {},
   "source": [
    "# Unequally spaced nodes"
   ]
  },
  {
   "cell_type": "code",
   "execution_count": 2,
   "metadata": {},
   "outputs": [],
   "source": [
    "# Helper function to compute divided differences\n",
    "def div_diffs(nodes, values, max_order):\n",
    "    if len(nodes) != len(values):\n",
    "        raise ValueError(\"nodes and values lists must have the same length\")\n",
    "    diffs = [values]\n",
    "    for order in range(max_order):\n",
    "        current_diffs = []\n",
    "        for i in range(1, len(nodes) - order):\n",
    "            current_diffs.append((diffs[-1][i] - diffs[-1][i-1]) / (nodes[i + order] - nodes[i-1]))\n",
    "        diffs.append(current_diffs)\n",
    "    return diffs"
   ]
  },
  {
   "cell_type": "code",
   "execution_count": 3,
   "metadata": {},
   "outputs": [],
   "source": [
    "# Helper function to nicely print divided differences\n",
    "def print_diffs(diffs):\n",
    "    rows = 2 * len(diffs[0]) - 1\n",
    "    for r in range(rows):\n",
    "        row = '\\t' if r % 2 == 1 else ''\n",
    "        for i in range(r % 2, min(rows - r, min(r + 1, len(diffs))), 2):\n",
    "            row += f'{float(diffs[i][(r - i) // 2]):.4f}\\t\\t'\n",
    "        print(row[:-2])"
   ]
  },
  {
   "cell_type": "code",
   "execution_count": 4,
   "metadata": {},
   "outputs": [],
   "source": [
    "# Create DataFrame from the provided data with addition of comments\n",
    "def create_usn_dataframe(new_node, closest_nodes, estimations, error, derivative_est, error_est):\n",
    "    index = ['Closest nodes', f'P_i({new_node})', 'Actual error', 'M_(i+1)', f'R_i({new_node})']\n",
    "    rows = [\n",
    "        closest_nodes,\n",
    "        estimations,\n",
    "        error,\n",
    "        derivative_est,\n",
    "        error_est\n",
    "    ]\n",
    "    return pd.DataFrame(rows, index=index)"
   ]
  },
  {
   "cell_type": "code",
   "execution_count": 5,
   "metadata": {},
   "outputs": [],
   "source": [
    "x = sp.symbols('x')\n",
    "f = sp.exp(x)"
   ]
  },
  {
   "cell_type": "code",
   "execution_count": 6,
   "metadata": {},
   "outputs": [],
   "source": [
    "# Nodes, function and new node are all taken from the book\n",
    "nodes = [-0.3, -0.2, -0.1, 0, 0.1, 0.3]\n",
    "new_node = 0.2\n",
    "order = 3\n",
    "values = [f.subs(x, n).evalf() for n in nodes]"
   ]
  },
  {
   "cell_type": "code",
   "execution_count": 7,
   "metadata": {},
   "outputs": [
    {
     "name": "stdout",
     "output_type": "stream",
     "text": [
      "0.7408\n",
      "\t0.7791\n",
      "0.8187\t\t0.4097\n",
      "\t0.8611\t\t0.1436\n",
      "0.9048\t\t0.4528\n",
      "\t0.9516\t\t0.1587\n",
      "1.0000\t\t0.5004\n",
      "\t1.0517\t\t0.1800\n",
      "1.1052\t\t0.5724\n",
      "\t1.2234\n",
      "1.3499\n"
     ]
    }
   ],
   "source": [
    "dds = div_diffs(nodes, values, order)\n",
    "print_diffs(dds)"
   ]
  },
  {
   "cell_type": "code",
   "execution_count": 8,
   "metadata": {},
   "outputs": [],
   "source": [
    "for pos in range(len(nodes)):\n",
    "    if nodes[pos] > new_node:\n",
    "        break\n",
    "# pos is where we'd put the new node among the others"
   ]
  },
  {
   "cell_type": "code",
   "execution_count": 9,
   "metadata": {},
   "outputs": [],
   "source": [
    "# Find position of the closest by value nodes\n",
    "i, j = pos - 1, pos\n",
    "pos_around_new = []\n",
    "while (j - i) <= order + 1:\n",
    "    if i < 0 and j >= len(nodes):\n",
    "        break\n",
    "    if j >= len(nodes) or new_node - nodes[i] <= nodes[j] - new_node:\n",
    "        pos_around_new.append(i)\n",
    "        i -= 1\n",
    "    else:\n",
    "        pos_around_new.append(j)\n",
    "        j += 1"
   ]
  },
  {
   "cell_type": "code",
   "execution_count": 10,
   "metadata": {},
   "outputs": [],
   "source": [
    "nodes_around_new = [nodes[i] for i in pos_around_new]"
   ]
  },
  {
   "cell_type": "code",
   "execution_count": 11,
   "metadata": {},
   "outputs": [
    {
     "name": "stdout",
     "output_type": "stream",
     "text": [
      "Estimated value: 1.22143043351646\n",
      "True value: 1.22140275816017\n"
     ]
    }
   ],
   "source": [
    "polynom = 0\n",
    "mult = 1\n",
    "estimated_values = []\n",
    "for o in range(order + 1):\n",
    "    m = min(pos_around_new[:o+1])\n",
    "    polynom += dds[o][m] * mult\n",
    "    estimated_values.append(polynom.subs(x, new_node).evalf())\n",
    "    mult *= x - nodes[pos_around_new[o]]\n",
    "print(f'Estimated value: {estimated_values[-1]}\\nTrue value: {f.subs(x, new_node).evalf()}')"
   ]
  },
  {
   "cell_type": "code",
   "execution_count": 12,
   "metadata": {},
   "outputs": [],
   "source": [
    "error = [f.subs(x, new_node) - p for p in estimated_values]"
   ]
  },
  {
   "cell_type": "code",
   "execution_count": 13,
   "metadata": {},
   "outputs": [],
   "source": [
    "# all the derivaties of e^x are e^x, and maximum of e^x on any segment [a, b], where it exists, is e^b.\n",
    "# also, e^x is always > 0.\n",
    "ms = []\n",
    "for i in range(len(nodes_around_new)):\n",
    "    ms.append(f.evalf(subs={x: max([new_node] + nodes_around_new[:i+1])}))"
   ]
  },
  {
   "cell_type": "code",
   "execution_count": 14,
   "metadata": {},
   "outputs": [],
   "source": [
    "# Compute estimated error\n",
    "rs = []\n",
    "mult = 1\n",
    "for i in range(len(nodes_around_new)):\n",
    "    mult *= abs(new_node - nodes_around_new[i]) / (i + 1)\n",
    "    rs.append(ms[i] * mult)"
   ]
  },
  {
   "cell_type": "code",
   "execution_count": 15,
   "metadata": {},
   "outputs": [
    {
     "data": {
      "text/html": [
       "<div>\n",
       "<style scoped>\n",
       "    .dataframe tbody tr th:only-of-type {\n",
       "        vertical-align: middle;\n",
       "    }\n",
       "\n",
       "    .dataframe tbody tr th {\n",
       "        vertical-align: top;\n",
       "    }\n",
       "\n",
       "    .dataframe thead th {\n",
       "        text-align: right;\n",
       "    }\n",
       "</style>\n",
       "<table border=\"1\" class=\"dataframe\">\n",
       "  <thead>\n",
       "    <tr style=\"text-align: right;\">\n",
       "      <th></th>\n",
       "      <th>0</th>\n",
       "      <th>1</th>\n",
       "      <th>2</th>\n",
       "      <th>3</th>\n",
       "    </tr>\n",
       "  </thead>\n",
       "  <tbody>\n",
       "    <tr>\n",
       "      <th>Closest nodes</th>\n",
       "      <td>0.3</td>\n",
       "      <td>0.1</td>\n",
       "      <td>0</td>\n",
       "      <td>-0.1</td>\n",
       "    </tr>\n",
       "    <tr>\n",
       "      <th>P_i(0.2)</th>\n",
       "      <td>1.34985880757600</td>\n",
       "      <td>1.22751486282583</td>\n",
       "      <td>1.22179052060098</td>\n",
       "      <td>1.22143043351646</td>\n",
       "    </tr>\n",
       "    <tr>\n",
       "      <th>Actual error</th>\n",
       "      <td>-0.128456049415833</td>\n",
       "      <td>-0.00611210466565559</td>\n",
       "      <td>-0.000387762440812178</td>\n",
       "      <td>-2.76753562922227e-5</td>\n",
       "    </tr>\n",
       "    <tr>\n",
       "      <th>M_(i+1)</th>\n",
       "      <td>1.34985880757600</td>\n",
       "      <td>1.34985880757600</td>\n",
       "      <td>1.34985880757600</td>\n",
       "      <td>1.34985880757600</td>\n",
       "    </tr>\n",
       "    <tr>\n",
       "      <th>R_i(0.2)</th>\n",
       "      <td>0.134985880757600</td>\n",
       "      <td>0.00674929403788001</td>\n",
       "      <td>0.000449952935858668</td>\n",
       "      <td>3.37464701894001e-5</td>\n",
       "    </tr>\n",
       "  </tbody>\n",
       "</table>\n",
       "</div>"
      ],
      "text/plain": [
       "                                0                     1  \\\n",
       "Closest nodes                 0.3                   0.1   \n",
       "P_i(0.2)         1.34985880757600      1.22751486282583   \n",
       "Actual error   -0.128456049415833  -0.00611210466565559   \n",
       "M_(i+1)          1.34985880757600      1.34985880757600   \n",
       "R_i(0.2)        0.134985880757600   0.00674929403788001   \n",
       "\n",
       "                                   2                     3  \n",
       "Closest nodes                      0                  -0.1  \n",
       "P_i(0.2)            1.22179052060098      1.22143043351646  \n",
       "Actual error   -0.000387762440812178  -2.76753562922227e-5  \n",
       "M_(i+1)             1.34985880757600      1.34985880757600  \n",
       "R_i(0.2)        0.000449952935858668   3.37464701894001e-5  "
      ]
     },
     "execution_count": 15,
     "metadata": {},
     "output_type": "execute_result"
    }
   ],
   "source": [
    "create_usn_dataframe(new_node, nodes_around_new, estimated_values, error, ms, rs)"
   ]
  },
  {
   "cell_type": "markdown",
   "metadata": {},
   "source": [
    "# Equally spaced nodes"
   ]
  },
  {
   "cell_type": "code",
   "execution_count": 16,
   "metadata": {},
   "outputs": [],
   "source": [
    "def finite_differences(nodes, values, max_order):\n",
    "    if len(nodes) != len(values):\n",
    "        raise ValueError(\"nodes and values lists must have the same length\")\n",
    "    diffs = [values]\n",
    "    for order in range(max_order):\n",
    "        current_diffs = []\n",
    "        for i in range(1, len(nodes) - order):\n",
    "            current_diffs.append(diffs[-1][i] - diffs[-1][i-1])\n",
    "        diffs.append(current_diffs)\n",
    "    return diffs"
   ]
  },
  {
   "cell_type": "code",
   "execution_count": 17,
   "metadata": {},
   "outputs": [],
   "source": [
    "def create_esn_dataframe(new_node, fin_diffs, ns, estimations, errors, err_est):\n",
    "    index = ['∆k*y_(n-k)', 'N_k(t)', 'N_k*∆k*y_n(n-k)',\n",
    "            f'P_k({new_node})', f'f({new_node}) - P_k({new_node})',\n",
    "            '|R_k({new_node})| <=']\n",
    "    rows = [fin_diffs, ns, [f * n for f, n in zip(fin_diffs, ns)],\n",
    "           estimations, errors, err_est]\n",
    "    return pd.DataFrame(rows, index=index)"
   ]
  },
  {
   "cell_type": "code",
   "execution_count": 18,
   "metadata": {},
   "outputs": [],
   "source": [
    "f = sp.cos(x)\n",
    "a, b = -3.5, -2.5\n",
    "new_node = -2.55\n",
    "step = 0.1\n",
    "order = 4"
   ]
  },
  {
   "cell_type": "code",
   "execution_count": 19,
   "metadata": {},
   "outputs": [],
   "source": [
    "nodes, values = [], []\n",
    "c = a\n",
    "while c <= b:\n",
    "    nodes.append(round(c, 5))\n",
    "    values.append(f.evalf(subs={x: c}))\n",
    "    c = round(c + step, 5)"
   ]
  },
  {
   "cell_type": "code",
   "execution_count": 20,
   "metadata": {},
   "outputs": [
    {
     "name": "stdout",
     "output_type": "stream",
     "text": [
      "f(-3.5)\t= -0.93646\n",
      "f(-3.4)\t= -0.96680\n",
      "f(-3.3)\t= -0.98748\n",
      "f(-3.2)\t= -0.99829\n",
      "f(-3.1)\t= -0.99914\n",
      "f(-3)\t= -0.98999\n",
      "f(-2.9)\t= -0.97096\n",
      "f(-2.8)\t= -0.94222\n",
      "f(-2.7)\t= -0.90407\n",
      "f(-2.6)\t= -0.85689\n",
      "f(-2.5)\t= -0.80114\n"
     ]
    }
   ],
   "source": [
    "for n, v in zip(nodes, values):\n",
    "    print(f'f({n:.3g})\\t= {v:.5g}')"
   ]
  },
  {
   "cell_type": "code",
   "execution_count": 21,
   "metadata": {},
   "outputs": [],
   "source": [
    "fds = finite_differences(nodes, values, order)"
   ]
  },
  {
   "cell_type": "code",
   "execution_count": 22,
   "metadata": {},
   "outputs": [
    {
     "name": "stdout",
     "output_type": "stream",
     "text": [
      "-0.9365\n",
      "\t-0.0303\n",
      "-0.9668\t\t0.0097\n",
      "\t-0.0207\t\t0.0002\n",
      "-0.9875\t\t0.0099\t\t-0.0001\n",
      "\t-0.0108\t\t0.0001\n",
      "-0.9983\t\t0.0100\t\t-0.0001\n",
      "\t-0.0008\t\t0.0000\n",
      "-0.9991\t\t0.0100\t\t-0.0001\n",
      "\t0.0091\t\t-0.0001\n",
      "-0.9900\t\t0.0099\t\t-0.0001\n",
      "\t0.0190\t\t-0.0002\n",
      "-0.9710\t\t0.0097\t\t-0.0001\n",
      "\t0.0287\t\t-0.0003\n",
      "-0.9422\t\t0.0094\t\t-0.0001\n",
      "\t0.0382\t\t-0.0004\n",
      "-0.9041\t\t0.0090\t\t-0.0001\n",
      "\t0.0472\t\t-0.0005\n",
      "-0.8569\t\t0.0086\n",
      "\t0.0557\n",
      "-0.8011\n"
     ]
    }
   ],
   "source": [
    "print_diffs(fds)"
   ]
  },
  {
   "cell_type": "code",
   "execution_count": 23,
   "metadata": {},
   "outputs": [
    {
     "data": {
      "text/plain": [
       "True"
      ]
     },
     "execution_count": 23,
     "metadata": {},
     "output_type": "execute_result"
    }
   ],
   "source": [
    "# new_node comes at the end of the table, and we take that into account to find the polynom\n",
    "b - step / 2 <= new_node and new_node < b"
   ]
  },
  {
   "cell_type": "code",
   "execution_count": 24,
   "metadata": {},
   "outputs": [],
   "source": [
    "t = (x - b) / step"
   ]
  },
  {
   "cell_type": "code",
   "execution_count": 25,
   "metadata": {},
   "outputs": [],
   "source": [
    "# Compute N_k for k up `order` to estimate error for polynom of order `order - 1`\n",
    "ns = [1]\n",
    "for i in range(order + 1):\n",
    "    ns.append(ns[-1] * (t + i) / (i + 1))"
   ]
  },
  {
   "cell_type": "code",
   "execution_count": 26,
   "metadata": {},
   "outputs": [],
   "source": [
    "# Calculate exact values of N_k in new_node\n",
    "n_values = [ns[0]] + [n.evalf(subs={x: new_node}) for n in ns[1:]]"
   ]
  },
  {
   "cell_type": "code",
   "execution_count": 27,
   "metadata": {},
   "outputs": [],
   "source": [
    "# Calculate all the polynoms with order from 0 to `order`\n",
    "polynoms = []\n",
    "for i in range(order + 1):\n",
    "    prev = polynoms[-1] if len(polynoms) > 0 else 0\n",
    "    polynoms.append(prev + ns[i] * fds[i][-1])"
   ]
  },
  {
   "cell_type": "code",
   "execution_count": 28,
   "metadata": {},
   "outputs": [],
   "source": [
    "true_value = f.evalf(subs={x: new_node})\n",
    "estimations = [p.evalf(subs={x: new_node}) for p in polynoms]\n",
    "errors = [true_value - e for e in estimations]"
   ]
  },
  {
   "cell_type": "code",
   "execution_count": 29,
   "metadata": {},
   "outputs": [
    {
     "data": {
      "text/plain": [
       "[-0.0289099196882884,\n",
       " -0.00103735077728173,\n",
       " 3.28678694556661e-5,\n",
       " 3.40281804211973e-6,\n",
       " -1.22832288784736e-7]"
      ]
     },
     "execution_count": 29,
     "metadata": {},
     "output_type": "execute_result"
    }
   ],
   "source": [
    "errors"
   ]
  },
  {
   "cell_type": "code",
   "execution_count": 30,
   "metadata": {},
   "outputs": [],
   "source": [
    "turning_point = -sp.pi\n",
    "df = sp.diff(f)\n",
    "ms = []\n",
    "for i in range(order + 1):\n",
    "    p = b - (i+1) * step\n",
    "    m = max(abs(df.evalf(subs={x: b})),\n",
    "            abs(df.evalf(subs={x: p})))\n",
    "    if p > turning_point:\n",
    "        m = max(m, abs(df.evalf(subs={x: turning_point})))\n",
    "    ms.append(m)\n",
    "    \n",
    "    df = sp.diff(df)"
   ]
  },
  {
   "cell_type": "code",
   "execution_count": 31,
   "metadata": {},
   "outputs": [],
   "source": [
    "# Error estimation\n",
    "rs = [(ms[i] * abs(ns[i+1]) * step ** (i + 1)).evalf(subs={x: new_node}) for i in range(order + 1)]"
   ]
  },
  {
   "cell_type": "code",
   "execution_count": 32,
   "metadata": {},
   "outputs": [],
   "source": [
    "# Put all the finite differences values we used into a list\n",
    "used_fds = [fds[i][-1] for i in range(order+1)]"
   ]
  },
  {
   "cell_type": "code",
   "execution_count": 33,
   "metadata": {},
   "outputs": [
    {
     "data": {
      "text/html": [
       "<div>\n",
       "<style scoped>\n",
       "    .dataframe tbody tr th:only-of-type {\n",
       "        vertical-align: middle;\n",
       "    }\n",
       "\n",
       "    .dataframe tbody tr th {\n",
       "        vertical-align: top;\n",
       "    }\n",
       "\n",
       "    .dataframe thead th {\n",
       "        text-align: right;\n",
       "    }\n",
       "</style>\n",
       "<table border=\"1\" class=\"dataframe\">\n",
       "  <thead>\n",
       "    <tr style=\"text-align: right;\">\n",
       "      <th></th>\n",
       "      <th>0</th>\n",
       "      <th>1</th>\n",
       "      <th>2</th>\n",
       "      <th>3</th>\n",
       "      <th>4</th>\n",
       "    </tr>\n",
       "  </thead>\n",
       "  <tbody>\n",
       "    <tr>\n",
       "      <th>∆k*y_(n-k)</th>\n",
       "      <td>-0.801143615546934</td>\n",
       "      <td>0.0557451378220136</td>\n",
       "      <td>0.00856174917389974</td>\n",
       "      <td>-0.000471440822617297</td>\n",
       "      <td>-9.02566484699552e-5</td>\n",
       "    </tr>\n",
       "    <tr>\n",
       "      <th>N_k(t)</th>\n",
       "      <td>1</td>\n",
       "      <td>-0.499999999999998</td>\n",
       "      <td>-0.125000000000000</td>\n",
       "      <td>-0.0625000000000001</td>\n",
       "      <td>-0.0390625000000001</td>\n",
       "    </tr>\n",
       "    <tr>\n",
       "      <th>N_k*∆k*y_n(n-k)</th>\n",
       "      <td>-0.801143615546934</td>\n",
       "      <td>-0.0278725689110067</td>\n",
       "      <td>-0.00107021864673747</td>\n",
       "      <td>2.94650514135811e-5</td>\n",
       "      <td>3.52565033085763e-6</td>\n",
       "    </tr>\n",
       "    <tr>\n",
       "      <th>P_k(-2.55)</th>\n",
       "      <td>-0.801143615546934</td>\n",
       "      <td>-0.829016184457940</td>\n",
       "      <td>-0.830086403104678</td>\n",
       "      <td>-0.830056938053264</td>\n",
       "      <td>-0.830053412402933</td>\n",
       "    </tr>\n",
       "    <tr>\n",
       "      <th>f(-2.55) - P_k(-2.55)</th>\n",
       "      <td>-0.0289099196882884</td>\n",
       "      <td>-0.00103735077728173</td>\n",
       "      <td>3.28678694556661e-5</td>\n",
       "      <td>3.40281804211973e-6</td>\n",
       "      <td>-1.22832288784736e-7</td>\n",
       "    </tr>\n",
       "    <tr>\n",
       "      <th>|R_k({new_node})| &lt;=</th>\n",
       "      <td>0.0299236072051977</td>\n",
       "      <td>0.00125000000000000</td>\n",
       "      <td>3.74045090064973e-5</td>\n",
       "      <td>3.90625000000001e-6</td>\n",
       "      <td>1.63644726903426e-7</td>\n",
       "    </tr>\n",
       "  </tbody>\n",
       "</table>\n",
       "</div>"
      ],
      "text/plain": [
       "                                         0                     1  \\\n",
       "∆k*y_(n-k)              -0.801143615546934    0.0557451378220136   \n",
       "N_k(t)                                   1    -0.499999999999998   \n",
       "N_k*∆k*y_n(n-k)         -0.801143615546934   -0.0278725689110067   \n",
       "P_k(-2.55)              -0.801143615546934    -0.829016184457940   \n",
       "f(-2.55) - P_k(-2.55)  -0.0289099196882884  -0.00103735077728173   \n",
       "|R_k({new_node})| <=    0.0299236072051977   0.00125000000000000   \n",
       "\n",
       "                                          2                      3  \\\n",
       "∆k*y_(n-k)              0.00856174917389974  -0.000471440822617297   \n",
       "N_k(t)                   -0.125000000000000    -0.0625000000000001   \n",
       "N_k*∆k*y_n(n-k)        -0.00107021864673747    2.94650514135811e-5   \n",
       "P_k(-2.55)               -0.830086403104678     -0.830056938053264   \n",
       "f(-2.55) - P_k(-2.55)   3.28678694556661e-5    3.40281804211973e-6   \n",
       "|R_k({new_node})| <=    3.74045090064973e-5    3.90625000000001e-6   \n",
       "\n",
       "                                          4  \n",
       "∆k*y_(n-k)             -9.02566484699552e-5  \n",
       "N_k(t)                  -0.0390625000000001  \n",
       "N_k*∆k*y_n(n-k)         3.52565033085763e-6  \n",
       "P_k(-2.55)               -0.830053412402933  \n",
       "f(-2.55) - P_k(-2.55)  -1.22832288784736e-7  \n",
       "|R_k({new_node})| <=    1.63644726903426e-7  "
      ]
     },
     "execution_count": 33,
     "metadata": {},
     "output_type": "execute_result"
    }
   ],
   "source": [
    "create_esn_dataframe(new_node, used_fds, n_values[:-1], estimations, errors, rs)"
   ]
  }
 ],
 "metadata": {
  "kernelspec": {
   "display_name": "Python 3.8.2 64-bit ('university': conda)",
   "language": "python",
   "name": "python38264bituniversitycondab97bf0abd727460988fa3373b2696f9e"
  },
  "language_info": {
   "codemirror_mode": {
    "name": "ipython",
    "version": 3
   },
   "file_extension": ".py",
   "mimetype": "text/x-python",
   "name": "python",
   "nbconvert_exporter": "python",
   "pygments_lexer": "ipython3",
   "version": "3.8.2"
  }
 },
 "nbformat": 4,
 "nbformat_minor": 4
}
