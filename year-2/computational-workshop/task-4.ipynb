{
 "cells": [
  {
   "cell_type": "code",
   "execution_count": 1,
   "metadata": {},
   "outputs": [],
   "source": [
    "import sympy as sp\n",
    "import pandas as pd\n",
    "from operator import mul\n",
    "from functools import reduce"
   ]
  },
  {
   "cell_type": "code",
   "execution_count": 2,
   "metadata": {},
   "outputs": [],
   "source": [
    "def print_derivatives(nodes, *args):\n",
    "    index = nodes\n",
    "    cols = ['f' + i * '\\'' for i in range(len(derivatives_per_node[0]))]\n",
    "    return pd.DataFrame(derivatives_per_node, index=index, columns=cols)"
   ]
  },
  {
   "cell_type": "code",
   "execution_count": 3,
   "metadata": {},
   "outputs": [],
   "source": [
    "def calculate_div_diffs(nodes, *args, max_order=None):\n",
    "    derivatives_per_node = list(zip(*args))\n",
    "    max_order_per_node = [len([j for j in i if j != None]) for i in derivatives_per_node]\n",
    "    if max_order == None:\n",
    "        max_order = sum(max_order_per_node)\n",
    "        \n",
    "    nodes_with_order = [nodes[i] for i in range(len(nodes)) for j in range(max_order_per_node[i])]\n",
    "    values_with_order = [args[0][i] for i in range(len(nodes)) for j in range(max_order_per_node[i])]\n",
    "    node_to_pos = {n: p for p, n in enumerate(nodes)}\n",
    "    nwo_to_pos = {i: node_to_pos[nodes_with_order[i]] for i in range(len(nodes_with_order))}\n",
    "    \n",
    "    diffs = [values_with_order]\n",
    "    for order in range(max_order - 1):\n",
    "        current_diffs = []\n",
    "        for i in range(1, len(nodes_with_order) - order):\n",
    "            if nodes_with_order[i + order] == nodes_with_order[i - 1]:\n",
    "                current_diffs.append(\n",
    "                    (derivatives_per_node[nwo_to_pos[i]][order + 1]) / \n",
    "                    (reduce(mul, [1] + [j for j in range(1, order + 1)]))\n",
    "                )\n",
    "            else:\n",
    "                p = diffs[-1][i] - diffs[-1][i-1]\n",
    "                current_diffs.append((diffs[-1][i] - diffs[-1][i-1]) / (nodes_with_order[i + order] - nodes_with_order[i-1]))\n",
    "        if len(current_diffs) == 0:\n",
    "            break\n",
    "        diffs.append(current_diffs)\n",
    "    return diffs"
   ]
  },
  {
   "cell_type": "code",
   "execution_count": 4,
   "metadata": {},
   "outputs": [],
   "source": [
    "def print_diffs(diffs):\n",
    "    rows = 2 * len(diffs[0]) - 1\n",
    "    for r in range(rows):\n",
    "        row = '\\t' if r % 2 == 1 else ''\n",
    "        for i in range(r % 2, min(rows - r, min(r + 1, len(diffs))), 2):\n",
    "            row += f'{float(diffs[i][(r - i) // 2]):.3f}\\t\\t'\n",
    "        print(row[:-2])"
   ]
  },
  {
   "cell_type": "code",
   "execution_count": 5,
   "metadata": {},
   "outputs": [],
   "source": [
    "nodes = [-1, 1, 2, 3]\n",
    "fvals = [7, -11, -5, 43]\n",
    "dfvals = [None, 5, 1, None]\n",
    "ddfvals = [None, -22, None, None]"
   ]
  },
  {
   "cell_type": "code",
   "execution_count": 6,
   "metadata": {},
   "outputs": [],
   "source": [
    "derivatives_per_node = list(zip(fvals, dfvals, ddfvals))\n",
    "max_order_per_node = [len([j for j in i if j != None]) for i in derivatives_per_node]\n",
    "nodes_with_order = [nodes[i] for i in range(len(nodes)) for j in range(max_order_per_node[i])]"
   ]
  },
  {
   "cell_type": "code",
   "execution_count": 7,
   "metadata": {},
   "outputs": [
    {
     "data": {
      "text/html": [
       "<div>\n",
       "<style scoped>\n",
       "    .dataframe tbody tr th:only-of-type {\n",
       "        vertical-align: middle;\n",
       "    }\n",
       "\n",
       "    .dataframe tbody tr th {\n",
       "        vertical-align: top;\n",
       "    }\n",
       "\n",
       "    .dataframe thead th {\n",
       "        text-align: right;\n",
       "    }\n",
       "</style>\n",
       "<table border=\"1\" class=\"dataframe\">\n",
       "  <thead>\n",
       "    <tr style=\"text-align: right;\">\n",
       "      <th></th>\n",
       "      <th>f</th>\n",
       "      <th>f'</th>\n",
       "      <th>f''</th>\n",
       "    </tr>\n",
       "  </thead>\n",
       "  <tbody>\n",
       "    <tr>\n",
       "      <th>-1</th>\n",
       "      <td>7</td>\n",
       "      <td>NaN</td>\n",
       "      <td>NaN</td>\n",
       "    </tr>\n",
       "    <tr>\n",
       "      <th>1</th>\n",
       "      <td>-11</td>\n",
       "      <td>5.0</td>\n",
       "      <td>-22.0</td>\n",
       "    </tr>\n",
       "    <tr>\n",
       "      <th>2</th>\n",
       "      <td>-5</td>\n",
       "      <td>1.0</td>\n",
       "      <td>NaN</td>\n",
       "    </tr>\n",
       "    <tr>\n",
       "      <th>3</th>\n",
       "      <td>43</td>\n",
       "      <td>NaN</td>\n",
       "      <td>NaN</td>\n",
       "    </tr>\n",
       "  </tbody>\n",
       "</table>\n",
       "</div>"
      ],
      "text/plain": [
       "     f   f'   f''\n",
       "-1   7  NaN   NaN\n",
       " 1 -11  5.0 -22.0\n",
       " 2  -5  1.0   NaN\n",
       " 3  43  NaN   NaN"
      ]
     },
     "execution_count": 7,
     "metadata": {},
     "output_type": "execute_result"
    }
   ],
   "source": [
    "print_derivatives(nodes, fvals, dfvals, ddfvals)"
   ]
  },
  {
   "cell_type": "code",
   "execution_count": 8,
   "metadata": {},
   "outputs": [],
   "source": [
    "dds = calculate_div_diffs(nodes, fvals, dfvals, ddfvals)"
   ]
  },
  {
   "cell_type": "code",
   "execution_count": 9,
   "metadata": {},
   "outputs": [
    {
     "name": "stdout",
     "output_type": "stream",
     "text": [
      "7.000\n",
      "\t-9.000\n",
      "-11.000\t\t7.000\n",
      "\t5.000\t\t-14.500\n",
      "-11.000\t\t-22.000\t\t12.500\n",
      "\t5.000\t\t23.000\t\t-13.833\n",
      "-11.000\t\t1.000\t\t-29.000\t\t9.083\n",
      "\t6.000\t\t-6.000\t\t22.500\n",
      "-5.000\t\t-5.000\t\t16.000\n",
      "\t1.000\t\t26.000\n",
      "-5.000\t\t47.000\n",
      "\t48.000\n",
      "43.000\n"
     ]
    }
   ],
   "source": [
    "print_diffs(dds)"
   ]
  },
  {
   "cell_type": "code",
   "execution_count": 10,
   "metadata": {},
   "outputs": [],
   "source": [
    "x = sp.symbols('x')\n",
    "polynom = 0\n",
    "mult = 1\n",
    "for i in range(len(dds)):\n",
    "    polynom += dds[i][0] * mult\n",
    "    mult *= x - nodes_with_order[i]"
   ]
  },
  {
   "cell_type": "code",
   "execution_count": 11,
   "metadata": {},
   "outputs": [
    {
     "data": {
      "text/latex": [
       "$\\displaystyle 9.08333333333333 x^{6} - 68.3333333333333 x^{5} + 176.833333333333 x^{4} - 149.333333333333 x^{3} - 87.9166666666667 x^{2} + 208.666666666667 x - 100.0$"
      ],
      "text/plain": [
       "9.08333333333333*x**6 - 68.3333333333333*x**5 + 176.833333333333*x**4 - 149.333333333333*x**3 - 87.9166666666667*x**2 + 208.666666666667*x - 100.0"
      ]
     },
     "execution_count": 11,
     "metadata": {},
     "output_type": "execute_result"
    }
   ],
   "source": [
    "sp.expand(polynom)"
   ]
  },
  {
   "cell_type": "code",
   "execution_count": 14,
   "metadata": {},
   "outputs": [],
   "source": [
    "polynom_test = []\n",
    "dp = polynom\n",
    "for i in range(len(derivatives_per_node[0])):\n",
    "    f_i = []\n",
    "    for j in range(len(nodes)):\n",
    "        if derivatives_per_node[j][i] != None:\n",
    "            f_i.append(dp.evalf(subs={x: nodes[i]}))\n",
    "        else:\n",
    "            f_i.append(None)\n",
    "    dp = sp.diff(dp)\n",
    "    polynom_test.append(f_i)"
   ]
  },
  {
   "cell_type": "code",
   "execution_count": 19,
   "metadata": {},
   "outputs": [
    {
     "data": {
      "text/html": [
       "<div>\n",
       "<style scoped>\n",
       "    .dataframe tbody tr th:only-of-type {\n",
       "        vertical-align: middle;\n",
       "    }\n",
       "\n",
       "    .dataframe tbody tr th {\n",
       "        vertical-align: top;\n",
       "    }\n",
       "\n",
       "    .dataframe thead th {\n",
       "        text-align: right;\n",
       "    }\n",
       "</style>\n",
       "<table border=\"1\" class=\"dataframe\">\n",
       "  <thead>\n",
       "    <tr style=\"text-align: right;\">\n",
       "      <th></th>\n",
       "      <th>f</th>\n",
       "      <th>f'</th>\n",
       "      <th>f''</th>\n",
       "    </tr>\n",
       "  </thead>\n",
       "  <tbody>\n",
       "    <tr>\n",
       "      <th>-1</th>\n",
       "      <td>7</td>\n",
       "      <td>NaN</td>\n",
       "      <td>NaN</td>\n",
       "    </tr>\n",
       "    <tr>\n",
       "      <th>1</th>\n",
       "      <td>-11</td>\n",
       "      <td>5.0</td>\n",
       "      <td>-22.0</td>\n",
       "    </tr>\n",
       "    <tr>\n",
       "      <th>2</th>\n",
       "      <td>-5</td>\n",
       "      <td>1.0</td>\n",
       "      <td>NaN</td>\n",
       "    </tr>\n",
       "    <tr>\n",
       "      <th>3</th>\n",
       "      <td>43</td>\n",
       "      <td>NaN</td>\n",
       "      <td>NaN</td>\n",
       "    </tr>\n",
       "  </tbody>\n",
       "</table>\n",
       "</div>"
      ],
      "text/plain": [
       "     f   f'   f''\n",
       "-1   7  NaN   NaN\n",
       " 1 -11  5.0 -22.0\n",
       " 2  -5  1.0   NaN\n",
       " 3  43  NaN   NaN"
      ]
     },
     "execution_count": 19,
     "metadata": {},
     "output_type": "execute_result"
    }
   ],
   "source": [
    "print_derivatives(nodes, *polynom_test)"
   ]
  }
 ],
 "metadata": {
  "kernelspec": {
   "display_name": "Python 3.8.2 64-bit ('university': conda)",
   "language": "python",
   "name": "python38264bituniversitycondab97bf0abd727460988fa3373b2696f9e"
  },
  "language_info": {
   "codemirror_mode": {
    "name": "ipython",
    "version": 3
   },
   "file_extension": ".py",
   "mimetype": "text/x-python",
   "name": "python",
   "nbconvert_exporter": "python",
   "pygments_lexer": "ipython3",
   "version": "3.8.2"
  }
 },
 "nbformat": 4,
 "nbformat_minor": 4
}
